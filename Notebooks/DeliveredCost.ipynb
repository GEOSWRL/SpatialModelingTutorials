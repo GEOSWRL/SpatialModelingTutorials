{
  "cells": [
    {
      "cell_type": "markdown",
      "metadata": {
        "id": "view-in-github",
        "colab_type": "text"
      },
      "source": [
        "<a href=\"https://colab.research.google.com/github/jshogland/SpatialModelingTutorials/blob/main/Notebooks/DeliveredCost.ipynb\" target=\"_parent\"><img src=\"https://colab.research.google.com/assets/colab-badge.svg\" alt=\"Open In Colab\"/></a>"
      ]
    },
    {
      "cell_type": "markdown",
      "id": "2567530f-1b9b-479f-b14f-e3019c0b7a03",
      "metadata": {
        "id": "2567530f-1b9b-479f-b14f-e3019c0b7a03"
      },
      "source": [
        "# Simple example of the delivered cost model\n",
        "\n",
        "This notebook provides a simplified illustration of using raster_tools to perform the delivered cost model technique described in [Hogland et. al. 2021](https://www.mdpi.com/1999-4907/12/8/1084) for the extent of the Stanislaus National Forest (**~2.5 million acres @ 30m spatial resolution**).\n",
        "\n",
        "## Overview\n",
        "1. Import raster_tools and add in raster and vector data. \n",
        "2. Visualize those data in a plot, as a dataframe/table, and as an interactive map.\n",
        "3. Perform delivered cost routine\n",
        "4. Visualize the results\n",
        "\n",
        "Author: John Hogland"
      ]
    },
    {
      "cell_type": "markdown",
      "source": [
        "# Download and install Raster-Tools"
      ],
      "metadata": {
        "id": "P1hwN43i4O_V"
      },
      "id": "P1hwN43i4O_V"
    },
    {
      "cell_type": "code",
      "source": [
        "!git clone https://github.com/UM-RMRS/raster_tools.git\n",
        "!git clone https://github.com/jshogland/SpatialModelingTutorials.git\n",
        "!pip install rioxarray\n",
        "!pip install dask_geopandas\n",
        "!pip install dask_image\n",
        "!pip install -e ./raster_tools"
      ],
      "metadata": {
        "colab": {
          "base_uri": "https://localhost:8080/"
        },
        "id": "esUaASnL4YBD",
        "outputId": "cb2bc19c-b82b-48e8-c64f-002b0c315eb7"
      },
      "id": "esUaASnL4YBD",
      "execution_count": 19,
      "outputs": [
        {
          "output_type": "stream",
          "name": "stdout",
          "text": [
            "fatal: destination path 'raster_tools' already exists and is not an empty directory.\n",
            "fatal: destination path 'SpatialModelingTutorials' already exists and is not an empty directory.\n",
            "Requirement already satisfied: rioxarray in /usr/local/lib/python3.7/dist-packages (0.9.1)\n",
            "Requirement already satisfied: rasterio in /usr/local/lib/python3.7/dist-packages (from rioxarray) (1.2.10)\n",
            "Requirement already satisfied: pyproj>=2.2 in /usr/local/lib/python3.7/dist-packages (from rioxarray) (3.2.1)\n",
            "Requirement already satisfied: packaging in /usr/local/lib/python3.7/dist-packages (from rioxarray) (21.3)\n",
            "Requirement already satisfied: xarray>=0.17 in /usr/local/lib/python3.7/dist-packages (from rioxarray) (0.18.2)\n",
            "Requirement already satisfied: certifi in /usr/local/lib/python3.7/dist-packages (from pyproj>=2.2->rioxarray) (2021.10.8)\n",
            "Requirement already satisfied: pandas>=1.0 in /usr/local/lib/python3.7/dist-packages (from xarray>=0.17->rioxarray) (1.3.5)\n",
            "Requirement already satisfied: numpy>=1.17 in /usr/local/lib/python3.7/dist-packages (from xarray>=0.17->rioxarray) (1.21.5)\n",
            "Requirement already satisfied: setuptools>=40.4 in /usr/local/lib/python3.7/dist-packages (from xarray>=0.17->rioxarray) (57.4.0)\n",
            "Requirement already satisfied: python-dateutil>=2.7.3 in /usr/local/lib/python3.7/dist-packages (from pandas>=1.0->xarray>=0.17->rioxarray) (2.8.2)\n",
            "Requirement already satisfied: pytz>=2017.3 in /usr/local/lib/python3.7/dist-packages (from pandas>=1.0->xarray>=0.17->rioxarray) (2018.9)\n",
            "Requirement already satisfied: six>=1.5 in /usr/local/lib/python3.7/dist-packages (from python-dateutil>=2.7.3->pandas>=1.0->xarray>=0.17->rioxarray) (1.15.0)\n",
            "Requirement already satisfied: pyparsing!=3.0.5,>=2.0.2 in /usr/local/lib/python3.7/dist-packages (from packaging->rioxarray) (3.0.7)\n",
            "Requirement already satisfied: attrs in /usr/local/lib/python3.7/dist-packages (from rasterio->rioxarray) (21.4.0)\n",
            "Requirement already satisfied: click-plugins in /usr/local/lib/python3.7/dist-packages (from rasterio->rioxarray) (1.1.1)\n",
            "Requirement already satisfied: cligj>=0.5 in /usr/local/lib/python3.7/dist-packages (from rasterio->rioxarray) (0.7.2)\n",
            "Requirement already satisfied: snuggs>=1.4.1 in /usr/local/lib/python3.7/dist-packages (from rasterio->rioxarray) (1.4.7)\n",
            "Requirement already satisfied: click>=4.0 in /usr/local/lib/python3.7/dist-packages (from rasterio->rioxarray) (7.1.2)\n",
            "Requirement already satisfied: affine in /usr/local/lib/python3.7/dist-packages (from rasterio->rioxarray) (2.3.0)\n",
            "Requirement already satisfied: dask_geopandas in /usr/local/lib/python3.7/dist-packages (0.1.0a7)\n",
            "Requirement already satisfied: dask>=2021.06.0 in /usr/local/lib/python3.7/dist-packages (from dask_geopandas) (2022.2.0)\n",
            "Requirement already satisfied: distributed>=2021.06.0 in /usr/local/lib/python3.7/dist-packages (from dask_geopandas) (2022.2.0)\n",
            "Requirement already satisfied: pygeos in /usr/local/lib/python3.7/dist-packages (from dask_geopandas) (0.12.0)\n",
            "Requirement already satisfied: packaging in /usr/local/lib/python3.7/dist-packages (from dask_geopandas) (21.3)\n",
            "Requirement already satisfied: geopandas>=0.10 in /usr/local/lib/python3.7/dist-packages (from dask_geopandas) (0.10.2)\n",
            "Requirement already satisfied: fsspec>=0.6.0 in /usr/local/lib/python3.7/dist-packages (from dask>=2021.06.0->dask_geopandas) (2022.2.0)\n",
            "Requirement already satisfied: pyyaml>=5.3.1 in /usr/local/lib/python3.7/dist-packages (from dask>=2021.06.0->dask_geopandas) (6.0)\n",
            "Requirement already satisfied: partd>=0.3.10 in /usr/local/lib/python3.7/dist-packages (from dask>=2021.06.0->dask_geopandas) (1.2.0)\n",
            "Requirement already satisfied: toolz>=0.8.2 in /usr/local/lib/python3.7/dist-packages (from dask>=2021.06.0->dask_geopandas) (0.11.2)\n",
            "Requirement already satisfied: cloudpickle>=1.1.1 in /usr/local/lib/python3.7/dist-packages (from dask>=2021.06.0->dask_geopandas) (2.0.0)\n",
            "Requirement already satisfied: psutil>=5.0 in /usr/local/lib/python3.7/dist-packages (from distributed>=2021.06.0->dask_geopandas) (5.4.8)\n",
            "Requirement already satisfied: msgpack>=0.6.0 in /usr/local/lib/python3.7/dist-packages (from distributed>=2021.06.0->dask_geopandas) (1.0.3)\n",
            "Requirement already satisfied: zict>=0.1.3 in /usr/local/lib/python3.7/dist-packages (from distributed>=2021.06.0->dask_geopandas) (2.0.0)\n",
            "Requirement already satisfied: click>=6.6 in /usr/local/lib/python3.7/dist-packages (from distributed>=2021.06.0->dask_geopandas) (7.1.2)\n",
            "Requirement already satisfied: tblib>=1.6.0 in /usr/local/lib/python3.7/dist-packages (from distributed>=2021.06.0->dask_geopandas) (1.7.0)\n",
            "Requirement already satisfied: tornado>=5 in /usr/local/lib/python3.7/dist-packages (from distributed>=2021.06.0->dask_geopandas) (5.1.1)\n",
            "Requirement already satisfied: jinja2 in /usr/local/lib/python3.7/dist-packages (from distributed>=2021.06.0->dask_geopandas) (2.11.3)\n",
            "Requirement already satisfied: sortedcontainers!=2.0.0,!=2.0.1 in /usr/local/lib/python3.7/dist-packages (from distributed>=2021.06.0->dask_geopandas) (2.4.0)\n",
            "Requirement already satisfied: setuptools in /usr/local/lib/python3.7/dist-packages (from distributed>=2021.06.0->dask_geopandas) (57.4.0)\n",
            "Requirement already satisfied: pandas>=0.25.0 in /usr/local/lib/python3.7/dist-packages (from geopandas>=0.10->dask_geopandas) (1.3.5)\n",
            "Requirement already satisfied: fiona>=1.8 in /usr/local/lib/python3.7/dist-packages (from geopandas>=0.10->dask_geopandas) (1.8.21)\n",
            "Requirement already satisfied: shapely>=1.6 in /usr/local/lib/python3.7/dist-packages (from geopandas>=0.10->dask_geopandas) (1.8.1)\n",
            "Requirement already satisfied: pyproj>=2.2.0 in /usr/local/lib/python3.7/dist-packages (from geopandas>=0.10->dask_geopandas) (3.2.1)\n",
            "Requirement already satisfied: six>=1.7 in /usr/local/lib/python3.7/dist-packages (from fiona>=1.8->geopandas>=0.10->dask_geopandas) (1.15.0)\n",
            "Requirement already satisfied: munch in /usr/local/lib/python3.7/dist-packages (from fiona>=1.8->geopandas>=0.10->dask_geopandas) (2.5.0)\n",
            "Requirement already satisfied: attrs>=17 in /usr/local/lib/python3.7/dist-packages (from fiona>=1.8->geopandas>=0.10->dask_geopandas) (21.4.0)\n",
            "Requirement already satisfied: cligj>=0.5 in /usr/local/lib/python3.7/dist-packages (from fiona>=1.8->geopandas>=0.10->dask_geopandas) (0.7.2)\n",
            "Requirement already satisfied: certifi in /usr/local/lib/python3.7/dist-packages (from fiona>=1.8->geopandas>=0.10->dask_geopandas) (2021.10.8)\n",
            "Requirement already satisfied: click-plugins>=1.0 in /usr/local/lib/python3.7/dist-packages (from fiona>=1.8->geopandas>=0.10->dask_geopandas) (1.1.1)\n",
            "Requirement already satisfied: pyparsing!=3.0.5,>=2.0.2 in /usr/local/lib/python3.7/dist-packages (from packaging->dask_geopandas) (3.0.7)\n",
            "Requirement already satisfied: pytz>=2017.3 in /usr/local/lib/python3.7/dist-packages (from pandas>=0.25.0->geopandas>=0.10->dask_geopandas) (2018.9)\n",
            "Requirement already satisfied: python-dateutil>=2.7.3 in /usr/local/lib/python3.7/dist-packages (from pandas>=0.25.0->geopandas>=0.10->dask_geopandas) (2.8.2)\n",
            "Requirement already satisfied: numpy>=1.17.3 in /usr/local/lib/python3.7/dist-packages (from pandas>=0.25.0->geopandas>=0.10->dask_geopandas) (1.21.5)\n",
            "Requirement already satisfied: locket in /usr/local/lib/python3.7/dist-packages (from partd>=0.3.10->dask>=2021.06.0->dask_geopandas) (0.2.1)\n",
            "Requirement already satisfied: heapdict in /usr/local/lib/python3.7/dist-packages (from zict>=0.1.3->distributed>=2021.06.0->dask_geopandas) (1.0.1)\n",
            "Requirement already satisfied: MarkupSafe>=0.23 in /usr/local/lib/python3.7/dist-packages (from jinja2->distributed>=2021.06.0->dask_geopandas) (2.0.1)\n",
            "Requirement already satisfied: dask_image in /usr/local/lib/python3.7/dist-packages (2021.12.0)\n",
            "Requirement already satisfied: pims>=0.4.1 in /usr/local/lib/python3.7/dist-packages (from dask_image) (0.5)\n",
            "Requirement already satisfied: numpy>=1.11.3 in /usr/local/lib/python3.7/dist-packages (from dask_image) (1.21.5)\n",
            "Requirement already satisfied: scipy>=0.19.1 in /usr/local/lib/python3.7/dist-packages (from dask_image) (1.4.1)\n",
            "Requirement already satisfied: dask[array]>=0.16.1 in /usr/local/lib/python3.7/dist-packages (from dask_image) (2022.2.0)\n",
            "Requirement already satisfied: packaging>=20.0 in /usr/local/lib/python3.7/dist-packages (from dask[array]>=0.16.1->dask_image) (21.3)\n",
            "Requirement already satisfied: cloudpickle>=1.1.1 in /usr/local/lib/python3.7/dist-packages (from dask[array]>=0.16.1->dask_image) (2.0.0)\n",
            "Requirement already satisfied: toolz>=0.8.2 in /usr/local/lib/python3.7/dist-packages (from dask[array]>=0.16.1->dask_image) (0.11.2)\n",
            "Requirement already satisfied: pyyaml>=5.3.1 in /usr/local/lib/python3.7/dist-packages (from dask[array]>=0.16.1->dask_image) (6.0)\n",
            "Requirement already satisfied: fsspec>=0.6.0 in /usr/local/lib/python3.7/dist-packages (from dask[array]>=0.16.1->dask_image) (2022.2.0)\n",
            "Requirement already satisfied: partd>=0.3.10 in /usr/local/lib/python3.7/dist-packages (from dask[array]>=0.16.1->dask_image) (1.2.0)\n",
            "Requirement already satisfied: pyparsing!=3.0.5,>=2.0.2 in /usr/local/lib/python3.7/dist-packages (from packaging>=20.0->dask[array]>=0.16.1->dask_image) (3.0.7)\n",
            "Requirement already satisfied: locket in /usr/local/lib/python3.7/dist-packages (from partd>=0.3.10->dask[array]>=0.16.1->dask_image) (0.2.1)\n",
            "Requirement already satisfied: slicerator>=0.9.8 in /usr/local/lib/python3.7/dist-packages (from pims>=0.4.1->dask_image) (1.0.0)\n",
            "Requirement already satisfied: six>=1.8 in /usr/local/lib/python3.7/dist-packages (from pims>=0.4.1->dask_image) (1.15.0)\n",
            "Obtaining file:///content/raster_tools\n",
            "  Installing build dependencies ... \u001b[?25l\u001b[?25hdone\n",
            "  Getting requirements to build wheel ... \u001b[?25l\u001b[?25hdone\n",
            "    Preparing wheel metadata ... \u001b[?25l\u001b[?25hdone\n",
            "Installing collected packages: raster-tools\n",
            "  Running setup.py develop for raster-tools\n",
            "Successfully installed raster-tools\n"
          ]
        }
      ]
    },
    {
      "cell_type": "markdown",
      "id": "961b437f-6f3b-4d78-bcc8-ba9ed50b36d5",
      "metadata": {
        "id": "961b437f-6f3b-4d78-bcc8-ba9ed50b36d5"
      },
      "source": [
        "# Import raster_tools and add in raster and vector data\n",
        "## Set System path"
      ]
    },
    {
      "cell_type": "code",
      "source": [
        "import sys\n",
        "sys.path.append(\"/content/raster_tools\")"
      ],
      "metadata": {
        "colab": {
          "base_uri": "https://localhost:8080/"
        },
        "id": "MLz4rLu6CqmY",
        "outputId": "a153f020-1019-489d-b8ca-13cb7ba98913"
      },
      "id": "MLz4rLu6CqmY",
      "execution_count": 20,
      "outputs": [
        {
          "output_type": "execute_result",
          "data": {
            "text/plain": [
              "True"
            ]
          },
          "metadata": {},
          "execution_count": 20
        }
      ]
    },
    {
      "cell_type": "code",
      "source": [
        "!pip list\n"
      ],
      "metadata": {
        "colab": {
          "base_uri": "https://localhost:8080/"
        },
        "id": "nC-IwZVnEPNY",
        "outputId": "2a573e5b-130d-4b0a-a5d5-1b308d6bc050"
      },
      "id": "nC-IwZVnEPNY",
      "execution_count": 25,
      "outputs": [
        {
          "output_type": "stream",
          "name": "stdout",
          "text": [
            "Package                       Version\n",
            "----------------------------- --------------\n",
            "absl-py                       1.0.0\n",
            "affine                        2.3.0\n",
            "alabaster                     0.7.12\n",
            "albumentations                0.1.12\n",
            "altair                        4.2.0\n",
            "appdirs                       1.4.4\n",
            "argon2-cffi                   21.3.0\n",
            "argon2-cffi-bindings          21.2.0\n",
            "arviz                         0.11.4\n",
            "astor                         0.8.1\n",
            "astropy                       4.3.1\n",
            "astunparse                    1.6.3\n",
            "atari-py                      0.2.9\n",
            "atomicwrites                  1.4.0\n",
            "attrs                         21.4.0\n",
            "audioread                     2.1.9\n",
            "autograd                      1.3\n",
            "Babel                         2.9.1\n",
            "backcall                      0.2.0\n",
            "beautifulsoup4                4.6.3\n",
            "bleach                        4.1.0\n",
            "blis                          0.4.1\n",
            "bokeh                         2.3.3\n",
            "Bottleneck                    1.3.2\n",
            "branca                        0.4.2\n",
            "bs4                           0.0.1\n",
            "CacheControl                  0.12.10\n",
            "cached-property               1.5.2\n",
            "cachetools                    4.2.4\n",
            "catalogue                     1.0.0\n",
            "certifi                       2021.10.8\n",
            "cffi                          1.15.0\n",
            "cftime                        1.5.2\n",
            "chardet                       3.0.4\n",
            "charset-normalizer            2.0.12\n",
            "click                         7.1.2\n",
            "click-plugins                 1.1.1\n",
            "cligj                         0.7.2\n",
            "cloudpickle                   2.0.0\n",
            "cmake                         3.12.0\n",
            "cmdstanpy                     0.9.5\n",
            "colorcet                      3.0.0\n",
            "colorlover                    0.3.0\n",
            "community                     1.0.0b1\n",
            "contextlib2                   0.5.5\n",
            "convertdate                   2.4.0\n",
            "coverage                      3.7.1\n",
            "coveralls                     0.5\n",
            "crcmod                        1.7\n",
            "cufflinks                     0.17.3\n",
            "cvxopt                        1.2.7\n",
            "cvxpy                         1.0.31\n",
            "cycler                        0.11.0\n",
            "cymem                         2.0.6\n",
            "Cython                        0.29.28\n",
            "daft                          0.0.4\n",
            "dask                          2022.2.0\n",
            "dask-geopandas                0.1.0a7\n",
            "dask-image                    2021.12.0\n",
            "datascience                   0.10.6\n",
            "debugpy                       1.0.0\n",
            "decorator                     4.4.2\n",
            "defusedxml                    0.7.1\n",
            "descartes                     1.1.0\n",
            "dill                          0.3.4\n",
            "distributed                   2022.2.0\n",
            "dlib                          19.18.0\n",
            "dm-tree                       0.1.6\n",
            "docopt                        0.6.2\n",
            "docutils                      0.17.1\n",
            "dopamine-rl                   1.0.5\n",
            "earthengine-api               0.1.299\n",
            "easydict                      1.9\n",
            "ecos                          2.0.10\n",
            "editdistance                  0.5.3\n",
            "en-core-web-sm                2.2.5\n",
            "entrypoints                   0.4\n",
            "ephem                         4.1.3\n",
            "et-xmlfile                    1.1.0\n",
            "fa2                           0.3.5\n",
            "fastai                        1.0.61\n",
            "fastdtw                       0.3.4\n",
            "fastprogress                  1.0.2\n",
            "fastrlock                     0.8\n",
            "fbprophet                     0.7.1\n",
            "feather-format                0.4.1\n",
            "filelock                      3.6.0\n",
            "Fiona                         1.8.21\n",
            "firebase-admin                4.4.0\n",
            "fix-yahoo-finance             0.0.22\n",
            "Flask                         1.1.4\n",
            "flatbuffers                   2.0\n",
            "folium                        0.8.3\n",
            "fsspec                        2022.2.0\n",
            "future                        0.16.0\n",
            "gast                          0.5.3\n",
            "GDAL                          2.2.2\n",
            "gdown                         4.2.1\n",
            "gensim                        3.6.0\n",
            "geographiclib                 1.52\n",
            "geopandas                     0.10.2\n",
            "geopy                         1.17.0\n",
            "gin-config                    0.5.0\n",
            "glob2                         0.7\n",
            "google                        2.0.3\n",
            "google-api-core               1.26.3\n",
            "google-api-python-client      1.12.10\n",
            "google-auth                   1.35.0\n",
            "google-auth-httplib2          0.0.4\n",
            "google-auth-oauthlib          0.4.6\n",
            "google-cloud-bigquery         1.21.0\n",
            "google-cloud-bigquery-storage 1.1.0\n",
            "google-cloud-core             1.0.3\n",
            "google-cloud-datastore        1.8.0\n",
            "google-cloud-firestore        1.7.0\n",
            "google-cloud-language         1.2.0\n",
            "google-cloud-storage          1.18.1\n",
            "google-cloud-translate        1.5.0\n",
            "google-colab                  1.0.0\n",
            "google-pasta                  0.2.0\n",
            "google-resumable-media        0.4.1\n",
            "googleapis-common-protos      1.54.0\n",
            "googledrivedownloader         0.4\n",
            "graphviz                      0.10.1\n",
            "greenlet                      1.1.2\n",
            "grpcio                        1.43.0\n",
            "gspread                       3.4.2\n",
            "gspread-dataframe             3.0.8\n",
            "gym                           0.17.3\n",
            "h5py                          3.1.0\n",
            "HeapDict                      1.0.1\n",
            "hijri-converter               2.2.3\n",
            "holidays                      0.10.5.2\n",
            "holoviews                     1.14.8\n",
            "html5lib                      1.0.1\n",
            "httpimport                    0.5.18\n",
            "httplib2                      0.17.4\n",
            "httplib2shim                  0.0.3\n",
            "humanize                      0.5.1\n",
            "hyperopt                      0.1.2\n",
            "ideep4py                      2.0.0.post3\n",
            "idna                          2.10\n",
            "imageio                       2.4.1\n",
            "imagesize                     1.3.0\n",
            "imbalanced-learn              0.8.1\n",
            "imblearn                      0.0\n",
            "imgaug                        0.2.9\n",
            "importlib-metadata            4.11.1\n",
            "importlib-resources           5.4.0\n",
            "imutils                       0.5.4\n",
            "inflect                       2.1.0\n",
            "iniconfig                     1.1.1\n",
            "intel-openmp                  2022.0.2\n",
            "intervaltree                  2.1.0\n",
            "ipykernel                     4.10.1\n",
            "ipython                       5.5.0\n",
            "ipython-genutils              0.2.0\n",
            "ipython-sql                   0.3.9\n",
            "ipywidgets                    7.6.5\n",
            "itsdangerous                  1.1.0\n",
            "jax                           0.2.25\n",
            "jaxlib                        0.1.71+cuda111\n",
            "jedi                          0.18.1\n",
            "jieba                         0.42.1\n",
            "Jinja2                        2.11.3\n",
            "joblib                        1.1.0\n",
            "jpeg4py                       0.1.4\n",
            "jsonschema                    4.3.3\n",
            "jupyter                       1.0.0\n",
            "jupyter-client                5.3.5\n",
            "jupyter-console               5.2.0\n",
            "jupyter-core                  4.9.2\n",
            "jupyterlab-pygments           0.1.2\n",
            "jupyterlab-widgets            1.0.2\n",
            "kaggle                        1.5.12\n",
            "kapre                         0.3.7\n",
            "keras                         2.8.0\n",
            "Keras-Preprocessing           1.1.2\n",
            "keras-vis                     0.4.1\n",
            "kiwisolver                    1.3.2\n",
            "korean-lunar-calendar         0.2.1\n",
            "libclang                      13.0.0\n",
            "librosa                       0.8.1\n",
            "lightgbm                      2.2.3\n",
            "llvmlite                      0.34.0\n",
            "lmdb                          0.99\n",
            "locket                        0.2.1\n",
            "LunarCalendar                 0.0.9\n",
            "lxml                          4.2.6\n",
            "Markdown                      3.3.6\n",
            "MarkupSafe                    2.0.1\n",
            "matplotlib                    3.2.2\n",
            "matplotlib-inline             0.1.3\n",
            "matplotlib-venn               0.11.6\n",
            "missingno                     0.5.0\n",
            "mistune                       0.8.4\n",
            "mizani                        0.6.0\n",
            "mkl                           2019.0\n",
            "mlxtend                       0.14.0\n",
            "more-itertools                8.12.0\n",
            "moviepy                       0.2.3.5\n",
            "mpmath                        1.2.1\n",
            "msgpack                       1.0.3\n",
            "multiprocess                  0.70.12.2\n",
            "multitasking                  0.0.10\n",
            "munch                         2.5.0\n",
            "murmurhash                    1.0.6\n",
            "music21                       5.5.0\n",
            "natsort                       5.5.0\n",
            "nbclient                      0.5.11\n",
            "nbconvert                     5.6.1\n",
            "nbformat                      5.1.3\n",
            "nest-asyncio                  1.5.4\n",
            "netCDF4                       1.5.8\n",
            "networkx                      2.6.3\n",
            "nibabel                       3.0.2\n",
            "nltk                          3.2.5\n",
            "notebook                      5.3.1\n",
            "numba                         0.51.2\n",
            "numexpr                       2.8.1\n",
            "numpy                         1.21.5\n",
            "nvidia-ml-py3                 7.352.0\n",
            "oauth2client                  4.1.3\n",
            "oauthlib                      3.2.0\n",
            "okgrade                       0.4.3\n",
            "opencv-contrib-python         4.1.2.30\n",
            "opencv-python                 4.1.2.30\n",
            "openpyxl                      3.0.9\n",
            "opt-einsum                    3.3.0\n",
            "osqp                          0.6.2.post0\n",
            "packaging                     21.3\n",
            "palettable                    3.3.0\n",
            "pandas                        1.3.5\n",
            "pandas-datareader             0.9.0\n",
            "pandas-gbq                    0.13.3\n",
            "pandas-profiling              1.4.1\n",
            "pandocfilters                 1.5.0\n",
            "panel                         0.12.1\n",
            "param                         1.12.0\n",
            "parso                         0.8.3\n",
            "partd                         1.2.0\n",
            "pathlib                       1.0.1\n",
            "patsy                         0.5.2\n",
            "pep517                        0.12.0\n",
            "pexpect                       4.8.0\n",
            "pickleshare                   0.7.5\n",
            "Pillow                        7.1.2\n",
            "PIMS                          0.5\n",
            "pip                           21.1.3\n",
            "pip-tools                     6.2.0\n",
            "plac                          1.1.3\n",
            "plotly                        5.5.0\n",
            "plotnine                      0.6.0\n",
            "pluggy                        0.7.1\n",
            "pooch                         1.6.0\n",
            "portpicker                    1.3.9\n",
            "prefetch-generator            1.0.1\n",
            "preshed                       3.0.6\n",
            "prettytable                   3.1.1\n",
            "progressbar2                  3.38.0\n",
            "prometheus-client             0.13.1\n",
            "promise                       2.3\n",
            "prompt-toolkit                1.0.18\n",
            "protobuf                      3.17.3\n",
            "psutil                        5.4.8\n",
            "psycopg2                      2.7.6.1\n",
            "ptyprocess                    0.7.0\n",
            "py                            1.11.0\n",
            "pyarrow                       6.0.1\n",
            "pyasn1                        0.4.8\n",
            "pyasn1-modules                0.2.8\n",
            "pycocotools                   2.0.4\n",
            "pycparser                     2.21\n",
            "pyct                          0.4.8\n",
            "pydata-google-auth            1.3.0\n",
            "pydot                         1.3.0\n",
            "pydot-ng                      2.0.0\n",
            "pydotplus                     2.0.2\n",
            "PyDrive                       1.3.1\n",
            "pyemd                         0.5.1\n",
            "pyerfa                        2.0.0.1\n",
            "pygeos                        0.12.0\n",
            "pyglet                        1.5.0\n",
            "Pygments                      2.6.1\n",
            "pygobject                     3.26.1\n",
            "pymc3                         3.11.4\n",
            "PyMeeus                       0.5.11\n",
            "pymongo                       4.0.1\n",
            "pymystem3                     0.2.0\n",
            "PyOpenGL                      3.1.5\n",
            "pyparsing                     3.0.7\n",
            "pyproj                        3.2.1\n",
            "pyrsistent                    0.18.1\n",
            "pysndfile                     1.3.8\n",
            "PySocks                       1.7.1\n",
            "pystan                        2.19.1.1\n",
            "pytest                        3.6.4\n",
            "python-apt                    0.0.0\n",
            "python-chess                  0.23.11\n",
            "python-dateutil               2.8.2\n",
            "python-louvain                0.16\n",
            "python-slugify                6.0.1\n",
            "python-utils                  3.1.0\n",
            "pytz                          2018.9\n",
            "pyviz-comms                   2.1.0\n",
            "PyWavelets                    1.2.0\n",
            "PyYAML                        6.0\n",
            "pyzmq                         22.3.0\n",
            "qdldl                         0.1.5.post0\n",
            "qtconsole                     5.2.2\n",
            "QtPy                          2.0.1\n",
            "rasterio                      1.2.10\n",
            "regex                         2019.12.20\n",
            "requests                      2.23.0\n",
            "requests-oauthlib             1.3.1\n",
            "resampy                       0.2.2\n",
            "rioxarray                     0.9.1\n",
            "rpy2                          3.4.5\n",
            "rsa                           4.8\n",
            "scikit-image                  0.18.3\n",
            "scikit-learn                  1.0.2\n",
            "scipy                         1.4.1\n",
            "screen-resolution-extra       0.0.0\n",
            "scs                           3.1.0\n",
            "seaborn                       0.11.2\n",
            "semver                        2.13.0\n",
            "Send2Trash                    1.8.0\n",
            "setuptools                    57.4.0\n",
            "setuptools-git                1.2\n",
            "Shapely                       1.8.1\n",
            "simplegeneric                 0.8.1\n",
            "six                           1.15.0\n",
            "sklearn                       0.0\n",
            "sklearn-pandas                1.8.0\n",
            "slicerator                    1.0.0\n",
            "smart-open                    5.2.1\n",
            "snowballstemmer               2.2.0\n",
            "snuggs                        1.4.7\n",
            "sortedcontainers              2.4.0\n",
            "SoundFile                     0.10.3.post1\n",
            "spacy                         2.2.4\n",
            "Sphinx                        1.8.6\n",
            "sphinxcontrib-serializinghtml 1.1.5\n",
            "sphinxcontrib-websupport      1.2.4\n",
            "SQLAlchemy                    1.4.31\n",
            "sqlparse                      0.4.2\n",
            "srsly                         1.0.5\n",
            "statsmodels                   0.10.2\n",
            "sympy                         1.7.1\n",
            "tables                        3.7.0\n",
            "tabulate                      0.8.9\n",
            "tblib                         1.7.0\n",
            "tenacity                      8.0.1\n",
            "tensorboard                   2.8.0\n",
            "tensorboard-data-server       0.6.1\n",
            "tensorboard-plugin-wit        1.8.1\n",
            "tensorflow                    2.8.0\n",
            "tensorflow-datasets           4.0.1\n",
            "tensorflow-estimator          2.8.0\n",
            "tensorflow-gcs-config         2.8.0\n",
            "tensorflow-hub                0.12.0\n",
            "tensorflow-io-gcs-filesystem  0.24.0\n",
            "tensorflow-metadata           1.6.0\n",
            "tensorflow-probability        0.16.0\n",
            "termcolor                     1.1.0\n",
            "terminado                     0.13.1\n",
            "testpath                      0.5.0\n",
            "text-unidecode                1.3\n",
            "textblob                      0.15.3\n",
            "Theano-PyMC                   1.1.2\n",
            "thinc                         7.4.0\n",
            "threadpoolctl                 3.1.0\n",
            "tifffile                      2021.11.2\n",
            "tomli                         2.0.1\n",
            "toolz                         0.11.2\n",
            "torch                         1.10.0+cu111\n",
            "torchaudio                    0.10.0+cu111\n",
            "torchsummary                  1.5.1\n",
            "torchtext                     0.11.0\n",
            "torchvision                   0.11.1+cu111\n",
            "tornado                       5.1.1\n",
            "tqdm                          4.62.3\n",
            "traitlets                     5.1.1\n",
            "tweepy                        3.10.0\n",
            "typeguard                     2.7.1\n",
            "typing-extensions             3.10.0.2\n",
            "tzlocal                       1.5.1\n",
            "uritemplate                   3.0.1\n",
            "urllib3                       1.24.3\n",
            "vega-datasets                 0.9.0\n",
            "wasabi                        0.9.0\n",
            "wcwidth                       0.2.5\n",
            "webencodings                  0.5.1\n",
            "Werkzeug                      1.0.1\n",
            "wheel                         0.37.1\n",
            "widgetsnbextension            3.5.2\n",
            "wordcloud                     1.5.0\n",
            "wrapt                         1.13.3\n",
            "xarray                        0.18.2\n",
            "xgboost                       0.90\n",
            "xkit                          0.0.0\n",
            "xlrd                          1.1.0\n",
            "xlwt                          1.3.0\n",
            "zict                          2.0.0\n",
            "zipp                          3.7.0\n"
          ]
        }
      ]
    },
    {
      "cell_type": "markdown",
      "source": [
        "## Specify file paths"
      ],
      "metadata": {
        "id": "q5zUArhaCr8a"
      },
      "id": "q5zUArhaCr8a"
    },
    {
      "cell_type": "code",
      "execution_count": 17,
      "id": "ec005add-b2bb-41f8-bc07-00dd2f4ee696",
      "metadata": {
        "id": "ec005add-b2bb-41f8-bc07-00dd2f4ee696"
      },
      "outputs": [],
      "source": [
        "flgeodb = '/content/SpatialModelingTutorials/data.gdb'\n",
        "lyr_rds_path = 'roads'\n",
        "lyr_fac_path = 'Facility'\n",
        "lyr_nf_path = 'StanislausBoundary'\n",
        "rs_elv_path = '/content/raster_tools/test/data/elevation.tif'"
      ]
    },
    {
      "cell_type": "markdown",
      "id": "114c65b6-4d6b-43da-abbf-24f9aff6c94d",
      "metadata": {
        "tags": [],
        "id": "114c65b6-4d6b-43da-abbf-24f9aff6c94d"
      },
      "source": [
        "## Import the raster_tools Raster and vector_open classes and surface and distance modules to perform analyses\n",
        "Create Raster and Vector objects"
      ]
    },
    {
      "cell_type": "code",
      "execution_count": 24,
      "id": "8fc8cd68-fc51-403e-b2ed-a7f698756935",
      "metadata": {
        "colab": {
          "base_uri": "https://localhost:8080/",
          "height": 354
        },
        "id": "8fc8cd68-fc51-403e-b2ed-a7f698756935",
        "outputId": "53b7dbd0-ce76-4484-dff3-9f5be3f21f90"
      },
      "outputs": [
        {
          "output_type": "error",
          "ename": "ImportError",
          "evalue": "ignored",
          "traceback": [
            "\u001b[0;31m---------------------------------------------------------------------------\u001b[0m",
            "\u001b[0;31mImportError\u001b[0m                               Traceback (most recent call last)",
            "\u001b[0;32m<ipython-input-24-67a26eee6db1>\u001b[0m in \u001b[0;36m<module>\u001b[0;34m()\u001b[0m\n\u001b[0;32m----> 1\u001b[0;31m \u001b[0;32mfrom\u001b[0m \u001b[0mraster_tools\u001b[0m \u001b[0;32mimport\u001b[0m \u001b[0mRaster\u001b[0m\u001b[0;34m,\u001b[0m \u001b[0mopen_vectors\u001b[0m\u001b[0;34m,\u001b[0m \u001b[0msurface\u001b[0m\u001b[0;34m,\u001b[0m \u001b[0mdistance\u001b[0m\u001b[0;34m\u001b[0m\u001b[0;34m\u001b[0m\u001b[0m\n\u001b[0m\u001b[1;32m      2\u001b[0m \u001b[0mrds\u001b[0m\u001b[0;34m,\u001b[0m\u001b[0mfac\u001b[0m\u001b[0;34m,\u001b[0m\u001b[0mnf\u001b[0m \u001b[0;34m=\u001b[0m \u001b[0mopen_vectors\u001b[0m\u001b[0;34m(\u001b[0m\u001b[0mflgeodb\u001b[0m\u001b[0;34m,\u001b[0m\u001b[0mlayers\u001b[0m\u001b[0;34m=\u001b[0m\u001b[0;34m[\u001b[0m\u001b[0mlyr_rds_path\u001b[0m\u001b[0;34m,\u001b[0m\u001b[0mlyr_fac_path\u001b[0m\u001b[0;34m,\u001b[0m\u001b[0mlyr_nf_path\u001b[0m\u001b[0;34m]\u001b[0m\u001b[0;34m)\u001b[0m\u001b[0;34m\u001b[0m\u001b[0;34m\u001b[0m\u001b[0m\n\u001b[1;32m      3\u001b[0m \u001b[0melv\u001b[0m\u001b[0;34m=\u001b[0m\u001b[0mRaster\u001b[0m\u001b[0;34m(\u001b[0m\u001b[0mrs_elv_path\u001b[0m\u001b[0;34m)\u001b[0m\u001b[0;34m\u001b[0m\u001b[0;34m\u001b[0m\u001b[0m\n",
            "\u001b[0;31mImportError\u001b[0m: cannot import name 'Raster' from 'raster_tools' (unknown location)",
            "",
            "\u001b[0;31m---------------------------------------------------------------------------\u001b[0;32m\nNOTE: If your import is failing due to a missing package, you can\nmanually install dependencies using either !pip or !apt.\n\nTo view examples of installing some common dependencies, click the\n\"Open Examples\" button below.\n\u001b[0;31m---------------------------------------------------------------------------\u001b[0m\n"
          ],
          "errorDetails": {
            "actions": [
              {
                "action": "open_url",
                "actionText": "Open Examples",
                "url": "/notebooks/snippets/importing_libraries.ipynb"
              }
            ]
          }
        }
      ],
      "source": [
        "from raster_tools import Raster, open_vectors, surface, distance\n",
        "rds,fac,nf = open_vectors(flgeodb,layers=[lyr_rds_path,lyr_fac_path,lyr_nf_path])\n",
        "elv=Raster(rs_elv_path)"
      ]
    },
    {
      "cell_type": "markdown",
      "id": "0ff14db2-15af-4a2c-aea6-9da3ae8d13ec",
      "metadata": {
        "tags": [],
        "id": "0ff14db2-15af-4a2c-aea6-9da3ae8d13ec"
      },
      "source": [
        "# Visualize your data\n",
        "## As a plot"
      ]
    },
    {
      "cell_type": "code",
      "execution_count": null,
      "id": "ace88a0b-6968-46ce-8933-1138ea6b64ee",
      "metadata": {
        "id": "ace88a0b-6968-46ce-8933-1138ea6b64ee"
      },
      "outputs": [],
      "source": [
        "p0 = nf.data.plot(facecolor=\"none\",edgecolor='orange',zorder=3)\n",
        "p1 = fac.data.plot(ax=p0,marker='o',markersize=30,color='red',zorder=4)\n",
        "p2 = rds.data.compute().plot(ax=p1,color='gray',zorder=2) #need to compute due to size (#number of records) of rds\n",
        "p3 = elv._rs.plot(ax=p2,zorder=1)"
      ]
    },
    {
      "cell_type": "markdown",
      "id": "af864343-e912-4eeb-ae77-e39ea6c245d6",
      "metadata": {
        "id": "af864343-e912-4eeb-ae77-e39ea6c245d6"
      },
      "source": [
        "## As the full table (roads file)"
      ]
    },
    {
      "cell_type": "code",
      "execution_count": null,
      "id": "41235075-0161-449f-868a-e35458500137",
      "metadata": {
        "id": "41235075-0161-449f-868a-e35458500137"
      },
      "outputs": [],
      "source": [
        "#Look at the full dask-geopanda structure. \n",
        "#Notice nothing is computed. \n",
        "#This is because it is a delayed dataframe (dask-geodataframe). \n",
        "#If we want to compute the cell values we must use the compute functon. \n",
        "rds.data "
      ]
    },
    {
      "cell_type": "markdown",
      "id": "a3565753-fa6f-4dcf-98bd-d50b6655c4d8",
      "metadata": {
        "id": "a3565753-fa6f-4dcf-98bd-d50b6655c4d8"
      },
      "source": [
        "### Just the attributes"
      ]
    },
    {
      "cell_type": "code",
      "execution_count": null,
      "id": "01bd6285-090c-4f48-ac4e-23a5fb0891ba",
      "metadata": {
        "id": "01bd6285-090c-4f48-ac4e-23a5fb0891ba"
      },
      "outputs": [],
      "source": [
        "rds.table.compute() # look at the attribute values"
      ]
    },
    {
      "cell_type": "markdown",
      "id": "a235497b-354e-4a4e-a148-4e4611e119d0",
      "metadata": {
        "id": "a235497b-354e-4a4e-a148-4e4611e119d0"
      },
      "source": [
        "### Just the geometry"
      ]
    },
    {
      "cell_type": "code",
      "execution_count": null,
      "id": "3b69b9b1-6411-4884-970e-9d431a387c76",
      "metadata": {
        "id": "3b69b9b1-6411-4884-970e-9d431a387c76"
      },
      "outputs": [],
      "source": [
        "rds.geometry.compute() #Look at the geometry values"
      ]
    },
    {
      "cell_type": "markdown",
      "id": "72dd23f2-064f-4b02-a406-1502589c3604",
      "metadata": {
        "id": "72dd23f2-064f-4b02-a406-1502589c3604"
      },
      "source": [
        "## Dynamic Mapping (Folium)"
      ]
    },
    {
      "cell_type": "code",
      "execution_count": null,
      "id": "1f0216df-b2f5-4541-b402-c5ae426d183c",
      "metadata": {
        "id": "1f0216df-b2f5-4541-b402-c5ae426d183c"
      },
      "outputs": [],
      "source": [
        "import folium\n",
        "from folium import plugins\n",
        "m0=nf.data.explore(name='Stanislaus')\n",
        "m1 = rds.data.compute().explore(m=m0,color='gray', name='Roads') #note for all the road examples we could have computed the geodataframe once instead of multiple times.\n",
        "m2 = fac.data.explore(m=m1,color='red',name='Facilities')\n",
        "folium.LayerControl().add_to(m2)\n",
        "m2"
      ]
    },
    {
      "cell_type": "markdown",
      "id": "58b45144-204c-4828-9b8e-c248382f8331",
      "metadata": {
        "id": "58b45144-204c-4828-9b8e-c248382f8331"
      },
      "source": [
        "# Delivered Cost Routine\n",
        "## On Road Dollars Per Ton \n",
        "### Converting the speed attribute into a cost raster surface that can be used to calculate dollars per ton\n",
        "Looking at the table you will notice the KPH field. This field denotes how fast a log truck can travel down a given road segment. We will use the roads geodataframe and the KPH field to convert our vector based road network into a raster surface of speed. \n",
        "\n",
        "To do this we will need to create a numba remap function and then:\n",
        "1. use the to_raster of the rds object function to create a raster surface (zero values = null and cell values > 0 correspond to the dataframe row)\n",
        "2. remap the speed values to the raster object\n",
        "3. set zero values to null on the raster object\n",
        "    \n",
        "#### Creating a numba function for fast c like processing and a general remap function to remap vectors converted to a raster to a given vector attribute value     "
      ]
    },
    {
      "cell_type": "code",
      "execution_count": null,
      "id": "a2f0e13d-b0c9-4c26-9f93-d8e9adca6332",
      "metadata": {
        "id": "a2f0e13d-b0c9-4c26-9f93-d8e9adca6332"
      },
      "outputs": [],
      "source": [
        "#definitions for remap function using \n",
        "from functools import partial\n",
        "from numba import jit, prange\n",
        "import numpy as np\n",
        "@jit(nopython=True,nogil=True) #decorator to numba for compiling to C\n",
        "def _remap_values(x,rmvls):\n",
        "    outx=np.zeros_like(x)\n",
        "    rws,clms=x.shape\n",
        "    for rw in prange(rws):\n",
        "        for cl in prange(clms):\n",
        "            vl = int(x[rw,cl])\n",
        "            if(vl==0): #zero values will be used for no data\n",
        "               continue\n",
        "            else:\n",
        "                outx[rw,cl]=rmvls[vl-1] #use the raster value to find the index of the attribute row value (base 0)\n",
        "            \n",
        "    return outx\n",
        "\n",
        "def remap_values(rs,vl_arr):\n",
        "    outrs=rs.copy()\n",
        "    data=outrs._rs.data\n",
        "    func_remap_values=partial(_remap_values,rmvls=vl_arr) #partially assign parameter \n",
        "    #map our remap function to dask chunks for each band in the raster and reassign rasters to the xarray dataset\n",
        "    for b in range(data.shape[0]):\n",
        "        data[b] = data[b].map_blocks(func_remap_values,dtype=float, meta=np.array((), dtype=float)) #map block to address fast processing\n",
        "    outrs._rs.data = data\n",
        "    return outrs\n"
      ]
    },
    {
      "cell_type": "markdown",
      "id": "12fff37a-ac4d-4ac9-a29b-73054b1dd016",
      "metadata": {
        "id": "12fff37a-ac4d-4ac9-a29b-73054b1dd016"
      },
      "source": [
        "### Convert vector to raster (step 1), remap values (step 2), set zero values to null data (step 3)\n",
        "For step 2 we can save a great deal of processing by recognizing we want to convert distance measured in meters (elevation raster projection) to hours/ton (ht). To do this we can assume a log truck on average can carry **28** tons (bone dry) per load and with a little math can convert our segment speeds into hours/ton that can be input as a cost surface.\n",
        "\n",
        "$\n",
        "ht=1/((KPH*1000)/28)\n",
        "$\n",
        "\n",
        "Moreover, we can convert ht to dollars per ton (dt) by assuming a constant machine rate of **98** dollars per hour.\n",
        "\n",
        "$\n",
        "dt=ht*98\n",
        "$\n"
      ]
    },
    {
      "cell_type": "code",
      "execution_count": null,
      "id": "0b5b68b6-009a-4e18-9309-893a084bf125",
      "metadata": {
        "id": "0b5b68b6-009a-4e18-9309-893a084bf125"
      },
      "outputs": [],
      "source": [
        "#step 1\n",
        "t1=rds.to_raster(elv) #convert to raster dataset (note the new raster cell values correspond to the row from the geodataframe)\n",
        "t2=t1.astype(float) #covert the data type output to float\n",
        "\n",
        "#step 2\n",
        "dt=1/((rds.data['KPH'].compute().to_numpy()*1000)/28)*98 #extract values from dataframe and convert to dollars/ton\n",
        "t3=remap_values(t2,dt)\n",
        "\n",
        "#step 3\n",
        "roadrs=t3.set_null_value(0)\n",
        "\n",
        "#plot our new values and list the unique values\n",
        "roadrs._rs.plot()\n",
        "print(np.unique(roadrs.to_xarray().values))\n",
        "print(np.unique(dt))"
      ]
    },
    {
      "cell_type": "markdown",
      "id": "b93d3a28-4504-43ef-822d-28d3b112ad4d",
      "metadata": {
        "id": "b93d3a28-4504-43ef-822d-28d3b112ad4d"
      },
      "source": [
        "## Total Dollars Per Ton\n",
        "### Calculating Off Road Dollars Per Ton\n",
        "Now that we have our roads rate surface of dollars per ton per meter, we can use it (as a cost surface) in conjunction with our facility location (sawmill) and elevation surface to calculate the least accumulated travel cost along the roadway to the sawmill (zeros = null). To estimate travel costs from the forest to the roadways (skidding & yarding) we can use the same procedure to estimate the least accumulated cost to and along the roadway. To allocate on road dollars per ton to off road cells we can use off road surface allocation, on road dollar per ton, and arithmetic analyses to estimate a total dollars per ton at the cell level for the forested landscape."
      ]
    },
    {
      "cell_type": "markdown",
      "id": "cbee6c45-97db-4d71-9d66-a39de9209ea6",
      "metadata": {
        "id": "cbee6c45-97db-4d71-9d66-a39de9209ea6"
      },
      "source": [
        "### Converting Surface Distance Into Cost Measured In Dollars Per Ton (on road)\n",
        "Using our roadrs surface of log truck hailing speeds, a constant log truck payload of **28** bone dry tones (green 46), a machine rate of **98** dollars per hour, and the distance module (cost_distance_analysis function) within raster_tools, we will create accumulated dollars per ton surface along the roadway. The cost_distance_analysis function takes costs, sources, and elevation surfaces as inputs to estimate the accumulated cost values for the least cost path. The steps to convert distance into costs are as follows:\n",
        "1. Convert facilities to a raster (can have multiple facilities here)\n",
        "2. Calculate on road costs \n",
        "3. Look at some stats and image"
      ]
    },
    {
      "cell_type": "code",
      "execution_count": null,
      "id": "42231474-95ac-4a02-8b5b-d73d4e5ea08e",
      "metadata": {
        "id": "42231474-95ac-4a02-8b5b-d73d4e5ea08e"
      },
      "outputs": [],
      "source": [
        "#step 1: convert facilities vector to raster and set zero to null\n",
        "t1=fac.to_raster(elv)\n",
        "facrs=t1.set_null_value(0)\n",
        "\n",
        "#step 2: calculate on road costs\n",
        "on_tt, on_tb, on_all=distance.cost_distance_analysis(roadrs,facrs,elv)\n",
        "\n",
        "#step 3: stats and image\n",
        "on_tt._rs.plot()\n",
        "print(\"Maxium on road cost $/ton = \" + str(on_tt._rs.max().values))\n",
        "xr = on_tt._rs\n",
        "print(\"Minimum on road cost $/ton = \" + str(xr.where(xr>0).min().values))\n",
        "zc=(on_tt == 0)._rs.sum()\n",
        "gc=(on_tt >= 0)._rs.sum()\n",
        "print(\"Proportion of zeros on the landscape = \" + str((zc/gc).values))#proportion of zeros\n"
      ]
    },
    {
      "cell_type": "markdown",
      "id": "b9724d4f-05e0-4e70-aba5-23977a20753f",
      "metadata": {
        "id": "b9724d4f-05e0-4e70-aba5-23977a20753f"
      },
      "source": [
        "### Calculating off road costs and adding those costs to on road costs\n",
        "Using our on_tt surface of dollars per ton, a constant rate of travel of **5.5** KPH, a constant skidder payload of **4** bone dry tones (green 8), a machine rate of **85** dollars per hour, and the distance module (cost_distance_analysis function) within raster_tools, we will create accumulated dollars per ton surface to the roadway. The cost_distance_analysis function takes costs, sources, and elevation surfaces as inputs to estimate the accumulated cost values for the least cost path. The steps to create off road costs and add those costs to on road costs are as follows:\n",
        "1. Create inputs to the cost_distance analysis function\n",
        "2. Calculate off road costs and allocate on road dollars/ton (in cents) to off road cells\n",
        "3. Convert cents to dollars\n",
        "4. Add on and off road dollar per ton surfaces\n",
        "5. Look at stats and image"
      ]
    },
    {
      "cell_type": "code",
      "execution_count": null,
      "id": "8fa5485e-b219-4698-9151-0b68ea0fffc7",
      "metadata": {
        "id": "8fa5485e-b219-4698-9151-0b68ea0fffc7"
      },
      "outputs": [],
      "source": [
        "#Step 1: create inputs\n",
        "from raster_tools import creation\n",
        "dt=creation.constant_raster(elv,value=1/((5.5*1000)/4)*85) #creating a constant raster that converts distance to $\\ton \n",
        "dt=dt.set_null_value(0) #need to set null value so we can define null values \n",
        "on_tt_cents=(on_tt*100).astype(int) #cost_distance_analysis needs the source raster to be an int. Changed on_tt to cents \n",
        "\n",
        "#Step 2: calculate on and off road costs\n",
        "off_tt, off_tb, off_all = distance.cost_distance_analysis(dt,on_tt_cents,elv) #run the cost distance\n",
        "\n",
        "#Step 3: convert cents to dollars\n",
        "on_tt_alc=off_all/100 #convert cents to dollars again\n",
        "\n",
        "#Step 4: Add on and off road costs\n",
        "cost=off_tt+on_tt_alc\n",
        "\n",
        "#Step 5: Look at stas and image\n",
        "print('max cost ($/ton) = ' + str(cost._rs.max().values))\n",
        "cost._rs.plot()"
      ]
    },
    {
      "cell_type": "markdown",
      "id": "521d8fd4-32bc-4cc4-9809-0ba51ca8e613",
      "metadata": {
        "id": "521d8fd4-32bc-4cc4-9809-0ba51ca8e613"
      },
      "source": [
        "# Visualizing The Results Within Folium\n",
        "To visualize our dollar per ton raster in Folium we need to:\n",
        "1. Normalize the data and get color map\n",
        "2. Reproject the data to lat and lon\n",
        "3. Build out the map"
      ]
    },
    {
      "cell_type": "code",
      "execution_count": null,
      "id": "b53f67a3-ec3f-4864-b10d-d067e97039c0",
      "metadata": {
        "id": "b53f67a3-ec3f-4864-b10d-d067e97039c0"
      },
      "outputs": [],
      "source": [
        "from matplotlib import cm\n",
        "\n",
        "#Step 1: Normalize the data and get color map\n",
        "l=cost._rs[0].min().values.item()\n",
        "u=cost._rs[0].max().values.item()\n",
        "costn=(cost-l)/(u-l)\n",
        "cmap=cm.get_cmap('coolwarm')\n",
        "\n",
        "\n",
        "#Step 2: reproject to lat lon\n",
        "xds_utm = costn._rs.rio.reproject(\"epsg:4326\") #we need to reproject our results to lat lon\n",
        "w,s,e,n=xds_utm.rio.bounds() #get the bounds\n",
        "bnd = [[s,w],[n,e]] #set the bound for folium\n",
        "data=cmap(xds_utm[0])\n",
        "\n",
        "#Step 3: build out the map\n",
        "m0=nf.data.explore(name='Stanislaus')\n",
        "folium.raster_layers.ImageOverlay(image=data,bounds=bnd,mercator_project=True,name='cost').add_to(m0) #add the raster\n",
        "#add the colormap\n",
        "#m0.add_child(cmap)\n",
        "m1 = rds.data.compute().explore(m=m0,color='brown',name='roads')\n",
        "m2 = fac.data.explore(m=m1,color='red',name='facility')\n",
        "fs=plugins.Fullscreen()\n",
        "m2.add_child(fs)\n",
        "folium.LayerControl().add_to(m2) # add the layer control\n",
        "m2.fit_bounds(bnd) #zoom the map to bounds of the cost raster\n",
        "m2 #view the map"
      ]
    },
    {
      "cell_type": "markdown",
      "id": "8b544867-9776-4583-9f55-a1a235cc7149",
      "metadata": {
        "id": "8b544867-9776-4583-9f55-a1a235cc7149"
      },
      "source": [
        "## There are many ways to customize these layers and add functionality. Check out Folium for more details.\n",
        "https://python-visualization.github.io/folium/index.html\n",
        "\n",
        "Now, let's save our interactive map as an html file that we can share with others."
      ]
    },
    {
      "cell_type": "code",
      "execution_count": null,
      "id": "60f456ab-ece2-4642-9154-18754cccad49",
      "metadata": {
        "id": "60f456ab-ece2-4642-9154-18754cccad49"
      },
      "outputs": [],
      "source": [
        "m2.save(\"test.html\")"
      ]
    },
    {
      "cell_type": "markdown",
      "id": "9095bc08-407a-42e9-9416-9a700928b608",
      "metadata": {
        "id": "9095bc08-407a-42e9-9416-9a700928b608"
      },
      "source": [
        "## This ends the delivered cost example."
      ]
    }
  ],
  "metadata": {
    "kernelspec": {
      "display_name": "Python 3 (ipykernel)",
      "language": "python",
      "name": "python3"
    },
    "language_info": {
      "codemirror_mode": {
        "name": "ipython",
        "version": 3
      },
      "file_extension": ".py",
      "mimetype": "text/x-python",
      "name": "python",
      "nbconvert_exporter": "python",
      "pygments_lexer": "ipython3",
      "version": "3.7.9"
    },
    "colab": {
      "name": "DeliveredCost.ipynb",
      "provenance": [],
      "include_colab_link": true
    }
  },
  "nbformat": 4,
  "nbformat_minor": 5
}